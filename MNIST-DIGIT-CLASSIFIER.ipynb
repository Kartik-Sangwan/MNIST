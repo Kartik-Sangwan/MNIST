{
 "cells": [
  {
   "cell_type": "code",
   "execution_count": 1,
   "metadata": {},
   "outputs": [],
   "source": [
    "%matplotlib inline\n",
    "# These are all the libraries that you must downlaod to run the code.\n",
    "import pandas as pd\n",
    "import matplotlib \n",
    "import matplotlib.pyplot as plt\n",
    "import numpy as np\n",
    "import sklearn \n",
    "import sklearn.datasets\n",
    "import sklearn.linear_model\n",
    "from sklearn.preprocessing import OneHotEncoder\n",
    "from sklearn.metrics import accuracy_score\n",
    "from numpy import array"
   ]
  },
  {
   "cell_type": "code",
   "execution_count": null,
   "metadata": {},
   "outputs": [],
   "source": [
    "# opening up our mnist kaggle trainnig dataset\n",
    "# Locate the train.csv file in your computer and enter its path here.\n",
    "data = pd.read_csv('/Users/kartiksangwan/Desktop/ML/Mnist-Data-Set/train.csv')\n",
    "dummies = pd.get_dummies(data['label'])\n",
    "dummies.head(10)\n",
    "dummies[2:3:].values.argmax()"
   ]
  },
  {
   "cell_type": "code",
   "execution_count": 5,
   "metadata": {},
   "outputs": [
    {
     "name": "stderr",
     "output_type": "stream",
     "text": [
      "/anaconda3/envs/tensorflow-sessions/lib/python3.6/site-packages/ipykernel_launcher.py:13: FutureWarning: Method .as_matrix will be removed in a future version. Use .values instead.\n",
      "  del sys.path[0]\n"
     ]
    },
    {
     "data": {
      "image/png": "[encoded data removed]",
      "text/plain": [
       "<Figure size 504x504 with 1 Axes>"
      ]
     },
     "metadata": {
      "needs_background": "light"
     },
     "output_type": "display_data"
    },
    {
     "name": "stdout",
     "output_type": "stream",
     "text": [
      "1\n"
     ]
    }
   ],
   "source": [
    "#y are the lables\n",
    "Y = data['label'].values\n",
    "\n",
    "#x is training dataset\n",
    "\n",
    "x = data.drop('label', axis = 1)\n",
    "X = x.values\n",
    "\n",
    "#visualisation of the data\n",
    "i = 0\n",
    "\n",
    "# Basic graphing using matplotlib functions.\n",
    "plt.figure(figsize = (7,7))\n",
    "grid_data = x.iloc[i].as_matrix().reshape(28, 28)\n",
    "plt.imshow(grid_data, interpolation = 'none', cmap = 'gray')\n",
    "plt.show()\n",
    "print(Y[i])"
   ]
  },
  {
   "cell_type": "code",
   "execution_count": 6,
   "metadata": {},
   "outputs": [],
   "source": [
    "#functions\n",
    "# I have used the most basic activation function called Sigmoid and its just a mathematical\n",
    "# formula that converts any number into a number between 0 and 1 so we can clasiify if the number \n",
    "# is say 7 or not. It can be thought of a probablilty that the input is say 7.\n",
    "\n",
    "def sigmoid(x):\n",
    "    return 1/(1+np.exp(-x))\n",
    "\n",
    "def sigmoid_p(x):\n",
    "    return sigmoid(x) * (1 - sigmoid(x))"
   ]
  },
  {
   "cell_type": "code",
   "execution_count": null,
   "metadata": {
    "scrolled": true
   },
   "outputs": [],
   "source": [
    "# Learning rate can be played around with.\n",
    "# It is basically how fast or slow the NN takes its steps towards the required minima.\n",
    "learning_rate = 0.0003\n",
    "\n",
    "# In this function we define the architecture of the the Neural Network.\n",
    "# We can change the number of neurons, the number of innner layers and see the \n",
    "# effect on the performance of the NN.\n",
    "def initialise_par(nninput_dim = 784, nnhidden_dim_1 = 256, nnhidden_dim_2 = 256, nnoutput_dim = 10):\n",
    "    #initialising the parameters\n",
    "    w1 = np.random.randn(nninput_dim, nnhidden_dim_1) - 1\n",
    "    w2 = np.random.randn(nnhidden_dim_1, nnhidden_dim_2) - 1\n",
    "    w3 = np.random.randn(nnhidden_dim_2, nnoutput_dim) - 1\n",
    "    b1 = np.zeros((1, nnhidden_dim_1)) \n",
    "    b2 = np.zeros((1, nnhidden_dim_2)) \n",
    "    b3 = np.zeros((1, nnoutput_dim)) \n",
    "    #return the model parameters\n",
    "    model = {'w1': w1, 'w2': w2, 'w3': w3, 'b1':b1, 'b2':b2, 'b3':b3}\n",
    "    return model\n",
    "def forward_prop(model, a):\n",
    "    #get parameters of model\n",
    "    w1, w2, w3, b1, b2, b3 = model['w1'], model['w2'], model['w3'], model['b1'], model['b2'], model['b3']\n",
    "    #forward prop to produce predicted value\n",
    "    z1 = np.dot(a, w1) + b1\n",
    "    a1 = sigmoid(z1)\n",
    "    z2 = np.dot(a1, w2) + b2\n",
    "    a2 = sigmoid(z2)\n",
    "    z3 = np.dot(a2, w3) + b3\n",
    "    a3 = sigmoid(z3)\n",
    "    preds = a3\n",
    "    #cache = {'a1':a1, 'a2': a2, 'a3':a3, 'z1':z1, 'z2':z2, 'z3':z3}\n",
    "    #return the 1*10 array of predictions\n",
    "    return preds\n",
    "def next_batch(X, Y, batch_size):\n",
    "    # loop over our dataset `X` in mini-batches of size `batchSize`\n",
    "    for i in range(0, X.shape[0], batch_size):\n",
    "        # yield a tuple of the current batched data and labels\n",
    "        yield (X[i:i + batch_size], Y[i:i + batch_size])\n",
    "\n",
    "loss_history = []\n",
    "# This is the main train method and it parameters can be changed to increase the accuracy \n",
    "# of the NN. For e.g. a increase in the size of the training data has an direct effect on the \n",
    "# the final accuracy of the NN.\n",
    "# Number of iteration (i.e. epochs) is another major parameter influencing the NN performance.\n",
    "# The batch size can be increased or decreased to speedup/slowdown the NN thus enchancing performance.\n",
    "# The initial biases for the neurons can also be set in the initialise_par function.\n",
    "# Over all the NN is highly customisable and has great scope for further enhancements.\n",
    "def train(model, X, Y):\n",
    "    w1, w2, w3, b1, b2, b3 = model['w1'], model['w2'], model['w3'], model['b1'], model['b2'], model['b3']\n",
    "    for epoch in range(200):\n",
    "        epoch_loss = []\n",
    "        for (batchx, batchy) in next_batch(X[:30000:], Y, 100):\n",
    "            #forward prop to produce predicted value\n",
    "            z1 = np.dot(batchx, w1) + b1\n",
    "            a1 = sigmoid(z1)\n",
    "            z2 = np.dot(a1, w2) + b2\n",
    "            a2 = sigmoid(z2)\n",
    "            z3 = np.dot(a2, w3) + b3\n",
    "            a3 = sigmoid(z3)\n",
    "            preds = a3\n",
    "            #calculating error \n",
    "            error = preds - batchy\n",
    "            delta_3 = error\n",
    "            loss = np.sum(error ** 2)\n",
    "            epoch_loss.append(loss)\n",
    "            #back propogation of the error(cost) to prevoius layers using formulas derived by differentiating the cost \n",
    "            #funtion wrt inputs to specific layers and also wrt to weights and the biases as shown below\n",
    "            delta_2 = np.multiply(np.dot(delta_3, w3.T), sigmoid_p(a2))\n",
    "            delta_1 = np.multiply(np.dot(delta_2, w2.T), sigmoid_p(a1))\n",
    "            #calculating the rate of change of the cost function wrt the weights(for which we need the above deltas)\n",
    "            dw3 = np.dot(a2.T, delta_3)\n",
    "            dw2 = np.dot(a1.T, delta_2)\n",
    "            dw1 = np.dot(batchx.T, delta_1)\n",
    "            #calculating the rate of change of the cost function wrt the biases(for which we need the above deltas)\n",
    "            db1 = 1/200 * np.sum(delta_1, axis=0)\n",
    "            db2 = 1/200 * np.sum(delta_2, axis=0)\n",
    "            db3 = 1/200 * np.sum(delta_3, axis=0)\n",
    "  \n",
    "            db3.values.reshape(1, 10)\n",
    "            #updating our weights using gradient descend\n",
    "            w1 -= learning_rate * dw1\n",
    "            w2 -= learning_rate * dw2\n",
    "            w3 -= learning_rate * dw3\n",
    "            b1 -= learning_rate * db1\n",
    "            b2 -= learning_rate * db2\n",
    "     \n",
    "            #b3 -= learning_rate * db3\n",
    "        loss_history.append(np.average(epoch_loss))\n",
    "        model = {'w1': w1, 'w2': w2, 'w3': w3, 'b1':b1, 'b2':b2, 'b3':b3}    \n",
    "        if epoch % 20 == 0:\n",
    "            print(loss_history)\n",
    "    return model\n",
    "def predict(model, x):\n",
    "    prediction = forward_prop(model, x)\n",
    "    loc_max = prediction.argmax()\n",
    "    return loc_max\n",
    "\n",
    "def cal_accuracy(m, dummies, X):\n",
    "    correct_guess = 0\n",
    "    for i in range(5000):\n",
    "        a0 = X[i+30000:i+30001:]\n",
    "        number_guess = predict(m, a0)\n",
    "        number = dummies[i+30000:i+30001:].values.argmax()\n",
    "        if number == number_guess:\n",
    "            correct_guess += 1\n",
    "    return correct_guess/50\n",
    "        \n",
    "m = initialise_par()\n",
    "final_model_par = train(m, X, dummies)\n",
    "# visual representation of our loss function.\n",
    "# Clearly it is sloping downwards and hence our NN is learnig properly and will give a good accuracy.\n",
    "plt.plot(loss_history)\n",
    "# This accuracy has been calculated using the images that were never seen by the NN.\n",
    "cal_accuracy(final_model_par, dummies, X)\n",
    "\n",
    "# This can be used to predict the number in any image that the neural network has not prevoiusly seen.\n",
    "predict(m, 35000)"
   ]
  }
 ],
 "metadata": {
  "kernelspec": {
   "display_name": "Python 3",
   "language": "python",
   "name": "python3"
  },
  "language_info": {
   "codemirror_mode": {
    "name": "ipython",
    "version": 3
   },
   "file_extension": ".py",
   "mimetype": "text/x-python",
   "name": "python",
   "nbconvert_exporter": "python",
   "pygments_lexer": "ipython3",
   "version": "3.6.8"
  }
 },
 "nbformat": 4,
 "nbformat_minor": 2
}
